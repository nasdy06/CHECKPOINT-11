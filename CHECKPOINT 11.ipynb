{
 "cells": [
  {
   "cell_type": "markdown",
   "id": "d6ccdcdd",
   "metadata": {},
   "source": [
    "# Q1"
   ]
  },
  {
   "cell_type": "code",
   "execution_count": 3,
   "id": "7a9f154d",
   "metadata": {},
   "outputs": [
    {
     "data": {
      "text/plain": [
       "967"
      ]
     },
     "execution_count": 3,
     "metadata": {},
     "output_type": "execute_result"
    }
   ],
   "source": [
    "mylist=[14, \"hello\", 967]\n",
    "mylist[2]\n",
    "#l'indice 6 n'existe pas le max est 2\n",
    "#IndexError: list index out of range"
   ]
  },
  {
   "cell_type": "markdown",
   "id": "245b03ad",
   "metadata": {},
   "source": [
    "# Q2"
   ]
  },
  {
   "cell_type": "code",
   "execution_count": 11,
   "id": "18a40040",
   "metadata": {},
   "outputs": [],
   "source": [
    "import pandas \n",
    "import numpy \n",
    "#ImportError: No module named Pandas\n"
   ]
  },
  {
   "cell_type": "markdown",
   "id": "5d6f7fdc",
   "metadata": {},
   "source": [
    "# Q3"
   ]
  },
  {
   "cell_type": "code",
   "execution_count": 12,
   "id": "81515278",
   "metadata": {},
   "outputs": [
    {
     "name": "stdout",
     "output_type": "stream",
     "text": [
      "python errors\n"
     ]
    }
   ],
   "source": [
    "print(\"python errors\")\n",
    "#SyntaxError: invalid syntax"
   ]
  },
  {
   "cell_type": "markdown",
   "id": "aa68b0dd",
   "metadata": {},
   "source": [
    "# Q4"
   ]
  },
  {
   "cell_type": "code",
   "execution_count": 13,
   "id": "ccad0825",
   "metadata": {},
   "outputs": [
    {
     "data": {
      "text/plain": [
       "'hello'"
      ]
     },
     "execution_count": 13,
     "metadata": {},
     "output_type": "execute_result"
    }
   ],
   "source": [
    "mydictionnary={True:\"hello\",False:\"bye\", '3':\"python\"}\n",
    "mydictionnary[True]\n",
    "#KeyError: 'True'"
   ]
  },
  {
   "cell_type": "markdown",
   "id": "6eb89a22",
   "metadata": {},
   "source": [
    "# Q5"
   ]
  },
  {
   "cell_type": "code",
   "execution_count": 14,
   "id": "f29c964c",
   "metadata": {},
   "outputs": [
    {
     "name": "stdout",
     "output_type": "stream",
     "text": [
      "14\n",
      "15\n",
      "16\n",
      "17\n",
      "18\n",
      "19\n",
      "20\n",
      "21\n",
      "22\n",
      "23\n",
      "24\n",
      "25\n",
      "26\n",
      "27\n",
      "28\n",
      "29\n",
      "30\n",
      "31\n",
      "32\n",
      "33\n",
      "34\n",
      "35\n",
      "36\n",
      "37\n",
      "38\n",
      "39\n",
      "40\n",
      "41\n",
      "42\n",
      "43\n",
      "44\n",
      "45\n",
      "46\n",
      "47\n",
      "48\n",
      "49\n",
      "50\n",
      "51\n",
      "52\n",
      "53\n",
      "54\n",
      "55\n",
      "56\n",
      "57\n",
      "58\n",
      "59\n",
      "60\n",
      "61\n",
      "62\n",
      "63\n",
      "64\n",
      "65\n",
      "66\n",
      "67\n",
      "68\n",
      "69\n",
      "70\n",
      "71\n",
      "72\n",
      "73\n",
      "74\n",
      "75\n",
      "76\n",
      "77\n"
     ]
    }
   ],
   "source": [
    "i=14\n",
    "while i<78:\n",
    "    print(i)\n",
    "    i+=1\n",
    "#IndentationError: expected an indented block"
   ]
  },
  {
   "cell_type": "markdown",
   "id": "0e32e5b7",
   "metadata": {},
   "source": [
    "# Q6"
   ]
  },
  {
   "cell_type": "code",
   "execution_count": 15,
   "id": "468e336a",
   "metadata": {},
   "outputs": [
    {
     "data": {
      "text/plain": [
       "3"
      ]
     },
     "execution_count": 15,
     "metadata": {},
     "output_type": "execute_result"
    }
   ],
   "source": [
    "it=iter([1,2,3])\n",
    "next(it)\n",
    "next(it)\n",
    "next(it)\n",
    "#StopIteration: "
   ]
  },
  {
   "cell_type": "markdown",
   "id": "0281372d",
   "metadata": {},
   "source": [
    "# Q7"
   ]
  },
  {
   "cell_type": "code",
   "execution_count": 16,
   "id": "917e26da",
   "metadata": {},
   "outputs": [
    {
     "data": {
      "text/plain": [
       "'1515'"
      ]
     },
     "execution_count": 16,
     "metadata": {},
     "output_type": "execute_result"
    }
   ],
   "source": [
    "'15'+'15'\n",
    "TypeError: cannot concatenate 'str' and 'int' objects"
   ]
  },
  {
   "cell_type": "markdown",
   "id": "a6985dbd",
   "metadata": {},
   "source": [
    "# Q8"
   ]
  },
  {
   "cell_type": "code",
   "execution_count": null,
   "id": "b3f9efad",
   "metadata": {},
   "outputs": [],
   "source": [
    "int('python')\n",
    "#'python' ne peut pas etre reconverti en nombre entier \n",
    "#ValueError: invalid literal for int() with base 10: 'python'\n"
   ]
  },
  {
   "cell_type": "markdown",
   "id": "292fe32e",
   "metadata": {},
   "source": [
    "# Q9"
   ]
  },
  {
   "cell_type": "code",
   "execution_count": null,
   "id": "bc3b802b",
   "metadata": {},
   "outputs": [],
   "source": [
    "python=1\n",
    "#la variable 'python' n'est pas initialise\n",
    "#NameError: name 'python' is not defined"
   ]
  },
  {
   "cell_type": "markdown",
   "id": "ad3fda90",
   "metadata": {},
   "source": [
    "# Q10"
   ]
  },
  {
   "cell_type": "code",
   "execution_count": null,
   "id": "bf99a2b3",
   "metadata": {},
   "outputs": [],
   "source": [
    "x=19/0\n",
    "#on ne peut pas divise un nombre par 0\n",
    "#ZeroDivisionError: integer division or modulo by zero"
   ]
  }
 ],
 "metadata": {
  "kernelspec": {
   "display_name": "Python 3 (ipykernel)",
   "language": "python",
   "name": "python3"
  },
  "language_info": {
   "codemirror_mode": {
    "name": "ipython",
    "version": 3
   },
   "file_extension": ".py",
   "mimetype": "text/x-python",
   "name": "python",
   "nbconvert_exporter": "python",
   "pygments_lexer": "ipython3",
   "version": "3.9.12"
  }
 },
 "nbformat": 4,
 "nbformat_minor": 5
}
